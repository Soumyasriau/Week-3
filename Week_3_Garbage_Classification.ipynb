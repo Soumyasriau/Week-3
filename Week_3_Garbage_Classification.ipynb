{
  "nbformat": 4,
  "nbformat_minor": 0,
  "metadata": {
    "colab": {
      "private_outputs": true,
      "provenance": [],
      "authorship_tag": "ABX9TyM4epzKqfXRv5Q21Qwh1y33",
      "include_colab_link": true
    },
    "kernelspec": {
      "name": "python3",
      "display_name": "Python 3"
    },
    "language_info": {
      "name": "python"
    }
  },
  "cells": [
    {
      "cell_type": "markdown",
      "metadata": {
        "id": "view-in-github",
        "colab_type": "text"
      },
      "source": [
        "<a href=\"https://colab.research.google.com/github/Soumyasriau/Week-3/blob/main/Week_3_Garbage_Classification.ipynb\" target=\"_parent\"><img src=\"https://colab.research.google.com/assets/colab-badge.svg\" alt=\"Open In Colab\"/></a>"
      ]
    },
    {
      "cell_type": "code",
      "source": [],
      "metadata": {
        "id": "qv-VGz6G3ET9"
      },
      "execution_count": null,
      "outputs": []
    },
    {
      "cell_type": "code",
      "execution_count": null,
      "metadata": {
        "id": "QWK3ohEAcO6z"
      },
      "outputs": [],
      "source": [
        "from google.colab import files\n",
        "uploaded = files.upload()\n"
      ]
    },
    {
      "cell_type": "code",
      "execution_count": null,
      "metadata": {
        "colab": {
          "background_save": true
        },
        "id": "P2w-8UIIe2Uc"
      },
      "outputs": [],
      "source": [
        "import zipfile\n",
        "import os\n",
        "\n",
        "with zipfile.ZipFile(\"archive (4).zip\", 'r') as zip_ref:\n",
        "    zip_ref.extractall(\"dataset\")\n"
      ]
    },
    {
      "cell_type": "code",
      "execution_count": null,
      "metadata": {
        "id": "4luGHsbfe_wa"
      },
      "outputs": [],
      "source": [
        "dataset_dir = \"dataset/TrashType_Image_Dataset\"\n",
        "print(os.path.exists(dataset_dir))  # Should return True\n"
      ]
    },
    {
      "cell_type": "code",
      "execution_count": null,
      "metadata": {
        "id": "yOghhW-kfKjh"
      },
      "outputs": [],
      "source": [
        "import numpy as np  # Importing NumPy for numerical operations and array manipulations\n",
        "import matplotlib.pyplot as plt  # Importing Matplotlib for plotting graphs and visualizations\n",
        "import seaborn as sns  # Importing Seaborn for statistical data visualization, built on top of Matplotlib\n",
        "import tensorflow as tf  # Importing TensorFlow for building and training machine learning models\n",
        "from tensorflow import keras  # Importing Keras, a high-level API for TensorFlow, to simplify model building\n",
        "from tensorflow.keras import Layer  # Importing Layer class for creating custom layers in Keras\n",
        "from tensorflow.keras.models import Sequential  # Importing Sequential model for building neural networks layer-by-layer\n",
        "from tensorflow.keras.layers import Rescaling , GlobalAveragePooling2D\n",
        "from tensorflow.keras import layers, optimizers, callbacks  # Importing various modules for layers, optimizers, and callbacks in Keras\n",
        "from sklearn.utils.class_weight import compute_class_weight  # Importing function to compute class weights for imbalanced datasets\n",
        "from tensorflow.keras.applications import EfficientNetV2B2  # Importing EfficientNetV2S model for transfer learning\n",
        "from sklearn.metrics import confusion_matrix, classification_report  # Importing functions to evaluate model performance\n",
        "import gradio as gr  # Importing Gradio for creating interactive web interfaces for machine learning models\n"
      ]
    },
    {
      "cell_type": "code",
      "execution_count": null,
      "metadata": {
        "id": "YQxdAzs8fYy6"
      },
      "outputs": [],
      "source": [
        "dataset_dir = r\"C:\\Users\\LENOVO\\Downloads\\archive (4)\\TrashType_Image_Dataset\"\n",
        "image_size = (124, 124)\n",
        "batch_size = 32\n",
        "seed = 42"
      ]
    },
    {
      "cell_type": "code",
      "execution_count": null,
      "metadata": {
        "id": "OFKu-HnYfm4m"
      },
      "outputs": [],
      "source": [
        "dataset_dir = \"dataset/TrashType_Image_Dataset\"\n",
        "print(os.path.exists(dataset_dir))  # Should return True"
      ]
    },
    {
      "cell_type": "code",
      "execution_count": null,
      "metadata": {
        "id": "BTYYHQGDfwrn"
      },
      "outputs": [],
      "source": [
        "\n",
        "train_ds = tf.keras.utils.image_dataset_from_directory(\n",
        "    dataset_dir,\n",
        "    validation_split=0.2,\n",
        "    subset=\"training\",\n",
        "    seed=seed,\n",
        "    shuffle = True,\n",
        "    image_size=image_size,\n",
        "    batch_size=batch_size\n",
        ")"
      ]
    },
    {
      "cell_type": "code",
      "execution_count": null,
      "metadata": {
        "id": "MpUMTGEtfz2Y"
      },
      "outputs": [],
      "source": [
        "val_ds = tf.keras.utils.image_dataset_from_directory(\n",
        "    dataset_dir,\n",
        "    validation_split=0.2,\n",
        "    subset=\"validation\",\n",
        "    seed=seed,\n",
        "    shuffle = True,\n",
        "    image_size=image_size,\n",
        "    batch_size=batch_size\n",
        ")\n",
        "val_class= val_ds.class_names"
      ]
    },
    {
      "cell_type": "code",
      "execution_count": null,
      "metadata": {
        "id": "USgAspqhf0BF"
      },
      "outputs": [],
      "source": [
        "# Get the total number of batches in the validation dataset\n",
        "val_batches = tf.data.experimental.cardinality(val_ds)\n",
        "\n",
        "# Split the validation dataset into two equal parts:\n",
        "# First half becomes the test dataset\n",
        "test_ds = val_ds.take(val_batches // 2)\n",
        "\n",
        "# Second half remains as the validation dataset\n",
        "val_dat = val_ds.skip(val_batches // 2)\n",
        "\n",
        "# Optimize test dataset by caching and prefetching to improve performance\n",
        "test_ds_eval = test_ds.cache().prefetch(tf.data.AUTOTUNE)"
      ]
    },
    {
      "cell_type": "code",
      "execution_count": null,
      "metadata": {
        "id": "qiSEDp8If0Dm"
      },
      "outputs": [],
      "source": [
        "print(train_ds.class_names)\n",
        "print(val_class)\n",
        "print(len(train_ds.class_names))"
      ]
    },
    {
      "cell_type": "code",
      "execution_count": null,
      "metadata": {
        "id": "WIiu1WhVf0GO"
      },
      "outputs": [],
      "source": [
        "\n",
        "import matplotlib.pyplot as plt\n",
        "\n",
        "plt.figure(figsize=(10, 10))\n",
        "for images, labels in train_ds.take(1):\n",
        "  for i in range(12):\n",
        "    ax = plt.subplot(4, 3, i + 1)\n",
        "    plt.imshow(images[i].numpy().astype(\"uint8\"))\n",
        "    plt.title(train_ds.class_names[labels[i]])\n",
        "    plt.axis(\"off\")"
      ]
    },
    {
      "cell_type": "code",
      "execution_count": null,
      "metadata": {
        "id": "7QdZ5fDMf0JA"
      },
      "outputs": [],
      "source": [
        "def count_distribution(dataset, class_names):\n",
        "    total = 0\n",
        "    counts = {name: 0 for name in class_names}\n",
        "\n",
        "    for _, labels in dataset:\n",
        "        for label in labels.numpy():\n",
        "            class_name = class_names[label]\n",
        "            counts[class_name] += 1\n",
        "            total += 1\n",
        "\n",
        "    for k in counts:\n",
        "        counts[k] = round((counts[k] / total) * 100, 2)  # Convert to percentage\n",
        "    return counts"
      ]
    },
    {
      "cell_type": "code",
      "execution_count": null,
      "metadata": {
        "id": "lsk25z35f0LL"
      },
      "outputs": [],
      "source": [
        "def simple_bar_plot(dist, title):\n",
        "    plt.bar(dist.keys(), dist.values(), color='cornflowerblue')\n",
        "    plt.title(title)\n",
        "    plt.ylabel('Percentage (%)')\n",
        "    plt.xticks(rotation=45)\n",
        "    plt.ylim(0, 100)\n",
        "    plt.tight_layout()\n",
        "    plt.show()"
      ]
    },
    {
      "cell_type": "code",
      "execution_count": null,
      "metadata": {
        "id": "k6soPPMef0Nh"
      },
      "outputs": [],
      "source": [
        "class_names = train_ds.class_names\n",
        "\n",
        "# Get class distributions\n",
        "train_dist = count_distribution(train_ds, class_names)\n",
        "val_dist = count_distribution(val_ds, class_names)\n",
        "test_dist = count_distribution(test_ds, class_names)\n",
        "overall_dist = {}\n",
        "for k in class_names:\n",
        "    overall_dist[k] = round((train_dist[k] + val_dist[k]) / 2, 2)\n",
        "\n",
        "print(train_dist)\n",
        "print(val_dist)\n",
        "print(test_dist)\n",
        "print(overall_dist)"
      ]
    },
    {
      "cell_type": "code",
      "execution_count": null,
      "metadata": {
        "id": "qnObSnHTf0P9"
      },
      "outputs": [],
      "source": [
        "simple_bar_plot(train_dist, \"Training Set Class Distribution (%)\")\n",
        "simple_bar_plot(val_dist, \"Validation Set Class Distribution (%)\")\n",
        "simple_bar_plot(test_dist, \"Test Set Class Distribution (%)\")\n",
        "simple_bar_plot(overall_dist, \"Overall Class Distribution (%)\")"
      ]
    },
    {
      "cell_type": "code",
      "execution_count": null,
      "metadata": {
        "id": "4jyuIQTbf0Up"
      },
      "outputs": [],
      "source": [
        "# Count class occurrences and prepare label list\n",
        "class_counts = {i: 0 for i in range(len(class_names))}\n",
        "all_labels = []\n",
        "\n",
        "for images, labels in train_ds:\n",
        "    for label in labels.numpy():\n",
        "        class_counts[label] += 1\n",
        "        all_labels.append(label)\n",
        "\n",
        "# Compute class weights (index aligned)\n",
        "class_weights_array = compute_class_weight(\n",
        "    class_weight='balanced',\n",
        "    classes=np.arange(len(class_names)),\n",
        "    y=all_labels\n",
        ")\n",
        "\n",
        "# Create dictionary mapping class index to weight\n",
        "class_weights = {i: w for i, w in enumerate(class_weights_array)}"
      ]
    },
    {
      "cell_type": "code",
      "execution_count": null,
      "metadata": {
        "id": "wDRdKJkOf0Xp"
      },
      "outputs": [],
      "source": [
        "print(\"Class Counts:\", class_counts)\n",
        "print(\"Class Weights:\", class_weights)"
      ]
    },
    {
      "cell_type": "code",
      "execution_count": null,
      "metadata": {
        "id": "FBtnIsBgf0aK"
      },
      "outputs": [],
      "source": [
        "data_augmentation = Sequential([\n",
        "    layers.RandomFlip(\"horizontal\"),\n",
        "    layers.RandomRotation(0.1),\n",
        "    layers.RandomZoom(0.1),\n",
        "    layers.RandomContrast(0.1),\n",
        "])"
      ]
    },
    {
      "cell_type": "code",
      "execution_count": null,
      "metadata": {
        "id": "r4pvJ57Bg8wp"
      },
      "outputs": [],
      "source": [
        "base_model = EfficientNetV2B2(include_top=False, input_shape=(124, 124, 3),include_preprocessing=True, weights='imagenet')\n",
        "\n",
        "\n",
        "#  Freeze early layers (to retain general pretrained features)\n",
        "base_model.trainable = True\n",
        "for layer in base_model.layers[:100]:  # You can adjust this number\n",
        "    layer.trainable = False"
      ]
    },
    {
      "cell_type": "code",
      "execution_count": null,
      "metadata": {
        "id": "HOI1hkHfg8y8"
      },
      "outputs": [],
      "source": [
        "model = Sequential([\n",
        "    layers.Input(shape=(124, 124, 3)),\n",
        "    data_augmentation,\n",
        "    base_model,\n",
        "    GlobalAveragePooling2D(),\n",
        "    layers.Dropout(0.3),\n",
        "    layers.Dense(6, activation='softmax')  # Change to your number of classes\n",
        "])\n",
        "model.compile(\n",
        "    optimizer=optimizers.Adam(learning_rate=1e-4),\n",
        "    loss='sparse_categorical_crossentropy',\n",
        "    metrics=['accuracy']\n",
        ")"
      ]
    },
    {
      "cell_type": "code",
      "execution_count": null,
      "metadata": {
        "id": "F4BbR2qsg81C"
      },
      "outputs": [],
      "source": [
        "early = tf.keras.callbacks.EarlyStopping(\n",
        "    monitor='val_loss',            # Metric to monitor (validation loss here)\n",
        "    patience=3,                   # Number of epochs to wait after last improvement before stopping\n",
        "    restore_best_weights=True     # After stopping, restore the model weights from the epoch with the best val_loss\n",
        ")"
      ]
    },
    {
      "cell_type": "code",
      "execution_count": null,
      "metadata": {
        "id": "LvUb2SBrg828"
      },
      "outputs": [],
      "source": [
        "epochs = 15  # Number of times the model will go through the entire dataset\n",
        "\n",
        "# Train the model using the fit function\n",
        "history = model.fit(\n",
        "    train_ds,                # Training dataset used to adjust model weights\n",
        "    validation_data=val_ds,   # Validation dataset to monitor performance on unseen data\n",
        "    epochs=epochs,           # Number of training cycles, referencing the variable set earlier\n",
        "    class_weight=class_weights,  # Handles class imbalances by assigning appropriate weights\n",
        "    batch_size=32,           # Number of samples processed in each training step\n",
        "    callbacks=[early]        # Implements early stopping to prevent unnecessary training\n",
        ")"
      ]
    },
    {
      "cell_type": "code",
      "execution_count": null,
      "metadata": {
        "id": "CKl8zpCHg89T"
      },
      "outputs": [],
      "source": [
        "  model.summary()"
      ]
    },
    {
      "cell_type": "code",
      "execution_count": null,
      "metadata": {
        "id": "GJqeQqBxg8_m"
      },
      "outputs": [],
      "source": [
        "\n",
        "base_model.summary()"
      ]
    },
    {
      "cell_type": "code",
      "execution_count": null,
      "metadata": {
        "id": "vzoI5Fsdg9CN"
      },
      "outputs": [],
      "source": [
        "acc = history.history['accuracy']          # Extract training accuracy from history\n",
        "val_acc = history.history['val_accuracy']  # Extract validation accuracy from history\n",
        "loss = history.history['loss']             # Extract training loss from history\n",
        "val_loss = history.history['val_loss']     # Extract validation loss from history\n",
        "\n",
        "epochs_range = range(len(acc))             # Define range for epochs based on accuracy length\n",
        "\n",
        "plt.figure(figsize=(10,8))                 # Set overall figure size for visualization\n",
        "\n",
        "plt.subplot(1,2,1)                         # Create first subplot (1 row, 2 columns, position 1)\n",
        "plt.plot(epochs_range, acc, label='Training Accuracy')       # Plot training accuracy\n",
        "plt.plot(epochs_range, val_acc, label='Validation Accuracy') # Plot validation accuracy\n",
        "plt.legend(loc='lower right')              # Place legend in lower-right corner\n",
        "plt.title('Training vs Validation Accuracy') # Add title for accuracy plot\n",
        "\n",
        "plt.subplot(1,2,2)                         # Create second subplot (1 row, 2 columns, position 2)\n",
        "plt.plot(epochs_range, loss, label='Training Loss')         # Plot training loss\n",
        "plt.plot(epochs_range, val_loss, label='Validation Loss')   # Plot validation loss\n",
        "plt.legend(loc='upper right')              # Place legend in upper-right corner\n",
        "plt.title('Training vs Validation Loss')   # Add title for loss plot\n",
        "\n",
        "plt.show()"
      ]
    },
    {
      "cell_type": "code",
      "execution_count": null,
      "metadata": {
        "id": "rQKBiALAg9Ez"
      },
      "outputs": [],
      "source": [
        "loss, accuracy = model.evaluate(test_ds_eval)\n",
        "print(f'Test accuracy is{accuracy:.4f}, Test loss is {loss:.4f}')"
      ]
    },
    {
      "cell_type": "code",
      "execution_count": null,
      "metadata": {
        "id": "VDDnMEQZg9HQ"
      },
      "outputs": [],
      "source": [
        "# Extract true labels from all batches in the test dataset\n",
        "y_true = np.concatenate([y.numpy() for x, y in test_ds_eval], axis=0)  # Convert Tensor labels to NumPy array and concatenate them\n",
        "\n",
        "# Get predictions as probabilities from the model\n",
        "y_pred_probs = model.predict(test_ds_eval)  # Predict class probabilities for each sample in the test dataset\n",
        "\n",
        "# Convert probabilities to predicted class indices\n",
        "y_pred = np.argmax(y_pred_probs, axis=1)  # Select the class with the highest probability for each sample\n",
        "\n",
        "# Compute the confusion matrix to evaluate classification performance\n",
        "cm = confusion_matrix(y_true, y_pred)  # Generate confusion matrix comparing true labels to predicted labels\n",
        "\n",
        "# Print metrics to assess model performance\n",
        "print(cm)  # Display confusion matrix\n",
        "print(classification_report(y_true, y_pred))"
      ]
    },
    {
      "cell_type": "code",
      "execution_count": null,
      "metadata": {
        "id": "oGdboH5eg9Kr"
      },
      "outputs": [],
      "source": [
        "plt.figure(figsize=(10,8))  # Set figure size for better visualization\n",
        "\n",
        "sns.heatmap(cm, annot=True, fmt='d',  # Create heatmap using confusion matrix\n",
        "            xticklabels=class_names,  # Set class names for x-axis (predicted labels)\n",
        "            yticklabels=class_names,  # Set class names for y-axis (true labels)\n",
        "            cmap='Blues')  # Use a blue colormap for better contrast\n",
        "\n",
        "plt.xlabel('Predicted')  # Label x-axis as Predicted classes\n",
        "plt.ylabel('True')  # Label y-axis as True classes\n",
        "plt.title('Confusion Matrix')  # Add title to the heatmap\n",
        "plt.show()  # Display the plot"
      ]
    },
    {
      "cell_type": "code",
      "execution_count": null,
      "metadata": {
        "id": "CptIR5epf0cO"
      },
      "outputs": [],
      "source": [
        "\n",
        "# Extract class names from the training dataset\n",
        "class_names = train_ds.class_names\n",
        "\n",
        "# Take one batch of images and labels from the test dataset for evaluation\n",
        "for images, labels in test_ds_eval.take(1):\n",
        "\n",
        "    # Generate predictions for the batch of images\n",
        "    predictions = model.predict(images)\n",
        "\n",
        "    # Get the predicted class index for each image\n",
        "    pred_labels = tf.argmax(predictions, axis=1)\n",
        "\n",
        "    # Loop through the first 8 images in the batch\n",
        "    for i in range(8):\n",
        "        plt.imshow(images[i].numpy().astype(\"uint8\"))  # Convert and display image\n",
        "        plt.title(f\"True: {class_names[labels[i]]}, Pred: {class_names[pred_labels[i]]}\")  # Show actual and predicted class\n",
        "        plt.axis(\"off\")  # Hide axes for better visualization\n",
        "        plt.show()"
      ]
    },
    {
      "cell_type": "code",
      "execution_count": null,
      "metadata": {
        "id": "slOUfP5Df0f1"
      },
      "outputs": [],
      "source": [
        "model.save('Effiicientnetv2b2.keras')\n",
        "\n",
        "# Load your Keras model\n",
        "model = tf.keras.models.load_model('Effiicientnetv2b2.keras')"
      ]
    },
    {
      "cell_type": "code",
      "execution_count": null,
      "metadata": {
        "id": "o31-bE5IuUlg"
      },
      "outputs": [],
      "source": [
        "!pip install gradio"
      ]
    },
    {
      "cell_type": "code",
      "execution_count": null,
      "metadata": {
        "id": "vybQ4fNyuUt8"
      },
      "outputs": [],
      "source": [
        "from tensorflow.keras.applications.efficientnet_v2 import preprocess_input"
      ]
    },
    {
      "cell_type": "code",
      "execution_count": null,
      "metadata": {
        "id": "rDpsVF3FuU0v"
      },
      "outputs": [],
      "source": [
        "def classify_image(img):\n",
        "    # Resize image to 124x124 pixels (Note: Comment says 128x128, but code resizes to 124x124)\n",
        "    img = img.resize((124, 124))\n",
        "\n",
        "    # Convert image to a NumPy array with float32 dtype\n",
        "    img_array = np.array(img, dtype=np.float32)\n",
        "    img_array = preprocess_input(img_array)\n",
        "\n",
        "    # Expand dimensions to match model input shape (adds a batch dimension)\n",
        "    img_array = np.expand_dims(img_array, axis=0)\n",
        "\n",
        "    # Make a prediction using the trained model\n",
        "    prediction = model.predict(img_array)\n",
        "\n",
        "    # Get the index of the highest predicted probability\n",
        "    predicted_class_index = np.argmax(prediction)\n",
        "\n",
        "    # Map the predicted index to its corresponding class name\n",
        "    predicted_class_name = class_names[predicted_class_index]\n",
        "\n",
        "    # Extract confidence score (probability of the predicted class)\n",
        "    confidence = prediction[0][predicted_class_index]\n",
        "\n",
        "    # Return formatted prediction result with confidence score\n",
        "    return f\"Predicted: {predicted_class_name} (Confidence: {confidence:.2f})\""
      ]
    },
    {
      "cell_type": "code",
      "execution_count": null,
      "metadata": {
        "id": "-jlWO3SIxM6P"
      },
      "outputs": [],
      "source": [
        "\n",
        "iface = gr.Interface(\n",
        "    fn=classify_image,  # Function to classify image using the trained model\n",
        "    inputs=gr.Image(type=\"pil\"),  # Accepts input as a PIL image\n",
        "    outputs=\"text\"  # Outputs prediction as text\n",
        ")\n",
        "\n",
        "# Launch the interface\n",
        "iface.launch()  # Start the Gradio interface for user interaction"
      ]
    }
  ]
}